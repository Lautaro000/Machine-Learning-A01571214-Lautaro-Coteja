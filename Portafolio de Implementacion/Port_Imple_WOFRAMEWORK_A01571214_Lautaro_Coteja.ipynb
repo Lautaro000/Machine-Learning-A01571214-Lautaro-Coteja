{
  "cells": [
    {
      "cell_type": "code",
      "source": [
        "import numpy as np\n",
        "import matplotlib.pyplot as plt\n",
        "\n",
        "# Datos (Attendance, Homework, Pass (1 para yes, 0 para no))\n",
        "data = np.array([\n",
        "    [80, 75, 1],\n",
        "    [65, 90, 1],\n",
        "    [55, 80, 1],\n",
        "    [95, 105, 1],\n",
        "    [55, 65, 0],\n",
        "    [75, 55, 0],\n",
        "    [90, 70, 1],\n",
        "    [65, 80, 0]\n",
        "])\n",
        "\n",
        "# Dividir los datos en conjunto de entrenamiento y de prueba\n",
        "np.random.shuffle(data)\n",
        "train_data = data[:6]\n",
        "test_data = data[6:]\n",
        "\n",
        "# Función sigmoide para regresión logística\n",
        "def sigmoid(z):\n",
        "    return 1 / (1 + np.exp(-z))\n",
        "\n",
        "# Función para la hipótesis\n",
        "def hypothesis(theta0, theta1, x):\n",
        "    z = theta0 + theta1 * x\n",
        "    return sigmoid(z)\n",
        "\n",
        "# Función de costo para regresión logística (log-loss)\n",
        "def cost_function(theta0, theta1, data):\n",
        "    m = len(data)\n",
        "    total_cost = 0\n",
        "    for i in range(m):\n",
        "        x = data[i][0]  # Usamos Attendance\n",
        "        y = data[i][2]  # Usamos Pass (1 o 0)\n",
        "        h = hypothesis(theta0, theta1, x)\n",
        "        total_cost += -y * np.log(h) - (1 - y) * np.log(1 - h)\n",
        "    return total_cost / m\n",
        "\n",
        "# Descenso de gradiente para la regresión logística\n",
        "def gradient_descent(data, theta0, theta1, alpha, iterations):\n",
        "    m = len(data)\n",
        "    for _ in range(iterations):\n",
        "        sum_theta0 = 0\n",
        "        sum_theta1 = 0\n",
        "        for i in range(m):\n",
        "            x = data[i][0]  # Usamos Attendance\n",
        "            y = data[i][2]  # Usamos Pass (1 o 0)\n",
        "            h = hypothesis(theta0, theta1, x)\n",
        "            sum_theta0 += (h - y)\n",
        "            sum_theta1 += (h - y) * x\n",
        "        theta0 -= alpha * sum_theta0 / m\n",
        "        theta1 -= alpha * sum_theta1 / m\n",
        "    return theta0, theta1\n",
        "\n",
        "# Inicialización de parámetros\n",
        "theta0_initial = 0\n",
        "theta1_initial = 0\n",
        "alpha = 0.001  # Se puede ajustar este valor basado en el criterio explicado más abajo\n",
        "iterations = 1000\n",
        "\n",
        "# Entrenar el modelo\n",
        "theta0_trained, theta1_trained = gradient_descent(train_data, theta0_initial, theta1_initial, alpha, iterations)\n",
        "\n",
        "# Predicción para el conjunto de prueba\n",
        "test_predictions = []\n",
        "for i in range(len(test_data)):\n",
        "    x = test_data[i][0]  # Usamos Attendance\n",
        "    test_predictions.append(hypothesis(theta0_trained, theta1_trained, x))\n",
        "\n",
        "# Visualización de resultados (se incluye la línea de model prediction)\n",
        "plt.scatter(train_data[:, 0], train_data[:, 2], color='blue', label='Training data')\n",
        "plt.scatter(test_data[:, 0], test_data[:, 2], color='green', label='Test data')\n",
        "plt.plot(test_data[:, 0], test_predictions, color='red', label='Model prediction')  # Línea de predicción añadida\n",
        "plt.xlabel('Attendance')\n",
        "plt.ylabel('Pass (1 o 0)')\n",
        "plt.legend()\n",
        "plt.show()\n",
        "\n",
        "# Calcular la función de costo para el conjunto de entrenamiento y de prueba\n",
        "train_cost = cost_function(theta0_trained, theta1_trained, train_data)\n",
        "test_cost = cost_function(theta0_trained, theta1_trained, test_data)\n",
        "\n",
        "print(f'Costo en el conjunto de entrenamiento: {train_cost}')\n",
        "print(f'Costo en el conjunto de prueba: {test_cost}')\n"
      ],
      "metadata": {
        "colab": {
          "base_uri": "https://localhost:8080/",
          "height": 486
        },
        "id": "TX3isNJvVIdv",
        "outputId": "9d982eeb-fc66-4041-c675-4467e77a48f0"
      },
      "execution_count": 3,
      "outputs": [
        {
          "output_type": "display_data",
          "data": {
            "text/plain": [
              "<Figure size 640x480 with 1 Axes>"
            ],
            "image/png": "[encoded data removed]"
          },
          "metadata": {}
        },
        {
          "output_type": "stream",
          "name": "stdout",
          "text": [
            "Costo en el conjunto de entrenamiento: 0.6060905232129422\n",
            "Costo en el conjunto de prueba: 0.7674546139068128\n"
          ]
        }
      ]
    },
    {
      "cell_type": "markdown",
      "source": [],
      "metadata": {
        "id": "-aVSooIWVkoh"
      }
    },
    {
      "cell_type": "code",
      "source": [
        "%%shell\n",
        "jupyter nbconvert --to html /content/Port_Imple_WOFRAMEWORK_A01571214_Lautaro_Coteja.ipynb"
      ],
      "metadata": {
        "id": "ytILAZbeVlG7"
      },
      "execution_count": null,
      "outputs": []
    }
  ],
  "metadata": {
    "colab": {
      "provenance": []
    },
    "kernelspec": {
      "display_name": "Python 3",
      "name": "python3"
    },
    "language_info": {
      "name": "python"
    }
  },
  "nbformat": 4,
  "nbformat_minor": 0
}